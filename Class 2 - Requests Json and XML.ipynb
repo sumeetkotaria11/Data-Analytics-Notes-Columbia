{
 "cells": [
  {
   "cell_type": "markdown",
   "metadata": {},
   "source": [
    "<h1>Sources of data</h1>\n",
    "<li><b>local files</b>csv, xls, txt, pdf</li>\n",
    "<li><b>database servers</b>\n",
    "<ul>\n",
    "<li>Relational databases\n",
    "<li>NoSQL databases\n",
    "</ul>\n",
    "<li><b>On the web</b>\n",
    "<ul>\n",
    "<li>html\n",
    "<li>JSON\n",
    "<li>XML\n",
    "</ul>"
   ]
  },
  {
   "cell_type": "markdown",
   "metadata": {},
   "source": [
    "<h2>Getting data from the Internet</h2>\n",
    "<li>Accessing the data is through APIs or web scraping\n",
    "<li>Data usually arrives in either JSON, XML or HTML \n",
    "<li>Python has libraries to help getting the data as well as extracting \"useful\" data"
   ]
  },
  {
   "cell_type": "markdown",
   "metadata": {},
   "source": [
    "<h2>The <i>requests</i> library</h2>\n",
    "<li>The primary mechanism for sending an API request or accessing a web server"
   ]
  },
  {
   "cell_type": "markdown",
   "metadata": {},
   "source": [
    "<h3>Step 1: Import the requests library</h3>"
   ]
  },
  {
   "cell_type": "code",
   "execution_count": null,
   "metadata": {},
   "outputs": [],
   "source": [
    "import requests"
   ]
  },
  {
   "cell_type": "markdown",
   "metadata": {},
   "source": [
    "<h3>Step 2: Send an HTTP request, get the response, and save in a variable</h3>"
   ]
  },
  {
   "cell_type": "code",
   "execution_count": null,
   "metadata": {},
   "outputs": [],
   "source": [
    "response = requests.get(\"http://www.epicurious.com/search/Tofu+Chili\")"
   ]
  },
  {
   "cell_type": "code",
   "execution_count": null,
   "metadata": {},
   "outputs": [],
   "source": [
    "response"
   ]
  },
  {
   "cell_type": "markdown",
   "metadata": {},
   "source": [
    "<h3>Step 3: Check the response status code to see if everything went as planned</h3>\n",
    "<li>status code 200: the request response cycle was successful\n",
    "<li>any other status code: it didn't work as expected (e.g., 404 = page not found)"
   ]
  },
  {
   "cell_type": "code",
   "execution_count": null,
   "metadata": {},
   "outputs": [],
   "source": [
    "print(response.status_code)"
   ]
  },
  {
   "cell_type": "code",
   "execution_count": null,
   "metadata": {},
   "outputs": [],
   "source": [
    "response.content"
   ]
  },
  {
   "cell_type": "markdown",
   "metadata": {},
   "source": [
    "<h3>WWW data is usually encoded</h3>\n",
    "<li>The b' in front of the response content indicates an encoded byte string\n",
    "<li>The <meta charset=\"utf-8\"> indicates that the page is using \"utf-8\" encoding\n",
    "<li>utf-8 == <i>Unicode</i> variable length character encoding system\n",
    "<li>Data received from the world wide web is usually in utf-8\n",
    "<li>Python strings are \"plain\" (unencoded) character sequences\n",
    "<li><b>Corollary!</b> We need to convert the utf-8 string into a python str"
   ]
  },
  {
   "cell_type": "markdown",
   "metadata": {},
   "source": [
    "<a href=\"http://www.diveintopython3.net/strings.html\">Click here!</a> if you want to know all about strings and character encoding"
   ]
  },
  {
   "cell_type": "code",
   "execution_count": null,
   "metadata": {},
   "outputs": [],
   "source": [
    "print(type(response.content))\n",
    "print(type(response.content.decode('utf-8')))"
   ]
  },
  {
   "cell_type": "markdown",
   "metadata": {},
   "source": [
    "<h3>Step 4: Get the content of the response</h3>\n",
    "<li>Convert to utf-8 if necessary"
   ]
  },
  {
   "cell_type": "code",
   "execution_count": null,
   "metadata": {},
   "outputs": [],
   "source": [
    "response.content.decode('utf-8')"
   ]
  },
  {
   "cell_type": "markdown",
   "metadata": {},
   "source": [
    "<h3>In-class problem</h3>\n",
    "<li>Get the contents of Wikipedia's main page and look for the string \"Did you know\" in it\n",
    "<li>At what location is it on the page?"
   ]
  },
  {
   "cell_type": "code",
   "execution_count": null,
   "metadata": {},
   "outputs": [],
   "source": [
    "url = \"https://en.wikipedia.org/wiki/main_page\"\n",
    "#The rest of your code should go below this line\n",
    "#import\n"
   ]
  },
  {
   "cell_type": "markdown",
   "metadata": {},
   "source": [
    "<h1>JSON: JavaScript Object Notation</h1>\n",
    "\n",
    "<li>Standard for \"serializing\" data objects for storage or transmission \n",
    "<li>Human-readable, useful for data interchange\n",
    "<li>Also useful for representing and storing semistructured data\n",
    "<li>Stored as plain (byte strings or utf-8 strings) text\n",
    "<li>Contains data type information"
   ]
  },
  {
   "cell_type": "markdown",
   "metadata": {},
   "source": [
    "<h2>json</h2>\n",
    "<li>The python library - json - deals with converting text to and from JSON\n"
   ]
  },
  {
   "cell_type": "markdown",
   "metadata": {},
   "source": [
    "<h2>Python and JSON data types</h2>\n",
    "<table align=\"left\">\n",
    "<tr><td>JSON</td><td>Python</td></tr>\n",
    "<tr><td>number</td>\t<td>int,float</td></tr>\n",
    "<tr><td>string</td>\t<td>str</td></tr>\n",
    "<tr><td>Null</td>\t<td>None</td></tr>\n",
    "<tr><td>true/false</td>\t<td>True/False</td></tr>\n",
    "<tr><td>Object</td>\t<td>dict</td></tr>\n",
    "<tr><td>Array</td>\t<td>list</td></tr>\n",
    "</table>"
   ]
  },
  {
   "cell_type": "markdown",
   "metadata": {},
   "source": [
    "<b>json.loads converts a json object into a python data object</b>"
   ]
  },
  {
   "cell_type": "code",
   "execution_count": null,
   "metadata": {},
   "outputs": [],
   "source": [
    "import json\n",
    "data_string = '[{\"b\": [2, 4], \"c\": 3.0, \"a\": \"A\"},34]'\n",
    "python_data = json.loads(data_string)\n",
    "print(python_data)\n",
    "data_string\n",
    "print(type(python_data))"
   ]
  },
  {
   "cell_type": "markdown",
   "metadata": {},
   "source": [
    "<h3>json.loads recursively decodes a string in JSON format into equivalent python objects</h3>\n",
    "<li>data_string's outermost element is converted into a python list (in the example!)\n",
    "<li>the first element of that list is converted into a dictionary\n",
    "<li>the key of that dictionary is converted into a string\n",
    "<li>the value of that dictionary is converted into a list of two integer elements"
   ]
  },
  {
   "cell_type": "code",
   "execution_count": null,
   "metadata": {},
   "outputs": [],
   "source": [
    "print(type(data_string),type(python_data))\n",
    "print(type(python_data[0]),python_data[0])\n",
    "print(type(python_data[0]['b']),python_data[0]['b'])"
   ]
  },
  {
   "cell_type": "code",
   "execution_count": null,
   "metadata": {},
   "outputs": [],
   "source": [
    "python_data[0]['b']"
   ]
  },
  {
   "cell_type": "markdown",
   "metadata": {},
   "source": [
    "<h3>json.loads will throw an exception if the format is incorrect</h3>"
   ]
  },
  {
   "cell_type": "code",
   "execution_count": null,
   "metadata": {},
   "outputs": [],
   "source": [
    "#Wrong. WHY?\n",
    "#json.loads(\"Hello\")\n",
    "#Correct\n"
   ]
  },
  {
   "cell_type": "markdown",
   "metadata": {},
   "source": [
    "<h3>json.dumps creates a json string from a python data object</h3>"
   ]
  },
  {
   "cell_type": "code",
   "execution_count": null,
   "metadata": {},
   "outputs": [],
   "source": [
    "import json\n",
    "data_string = json.dumps(python_data)\n",
    "print(type(data_string))\n",
    "print(data_string)\n",
    "data_string"
   ]
  },
  {
   "cell_type": "markdown",
   "metadata": {},
   "source": [
    "<h1>API: Application Programming Interface</h1>\n",
    "<li>A protocal containing a set of commands or functions that allow one piece of software  to talk to another \n",
    "<li>Data from the web is often gotten through an API\n",
    "<li>Web APIs usually consist of two parts:\n",
    "<ul>\n",
    "<li><b>request</b> an well-formed HTTP request to a server\n",
    "<li><b>response</b> a response from the server, usually either an html page or a JSON object\n",
    "</ul>"
   ]
  },
  {
   "cell_type": "markdown",
   "metadata": {},
   "source": [
    "<h2>The HTTP request</h2>\n",
    "<li>Contains a url\n",
    "<li>Contains a set of parameters required by the server to figure out what data to send back\n",
    "<li>Often, a parameter is a unique <b>access key</b> that the server uses to keep track of who is requesting the data"
   ]
  },
  {
   "cell_type": "markdown",
   "metadata": {},
   "source": [
    "<h1>API example: Google Geocoding API</h1>\n",
    "<li><a href=\"https://developers.google.com/maps/documentation/geocoding/start\">Documentation</a>\n",
    "<li>Google has a large number of map and location related APIs\n",
    "<li>You need an account and an API key to use these APIs\n",
    "<li>To set up an account and get a key:\n",
    "<ul>\n",
    "<li>go to <a href=\"https://cloud.google.com/\">google cloud</a>\n",
    "<li>click \"go to console\" or \"try gcp for free\"\n",
    "<li>if creating a new account, enter all details \n",
    "<li>go to API and services\n",
    "<li>click \"Enable APIs\" and search for geocoding api\n",
    "<li>click on credentials and create an API key\n"
   ]
  },
  {
   "cell_type": "markdown",
   "metadata": {},
   "source": [
    "<h2>requests library and API requests</h2>"
   ]
  },
  {
   "cell_type": "code",
   "execution_count": null,
   "metadata": {},
   "outputs": [],
   "source": [
    "#My api_key\n",
    "with open(\"/Users/ya/Desktop/GCPAPIKey.txt\",'r') as f:\n",
    "    api_key = f.read().strip()\n"
   ]
  },
  {
   "cell_type": "code",
   "execution_count": null,
   "metadata": {},
   "outputs": [],
   "source": [
    "address=\"Columbia University, New York, NY\"\n",
    "address=address.replace(' ','_')\n",
    "#api_key=\"\"\n",
    "url=\"https://maps.googleapis.com/maps/api/geocode/json?address=%s&key=%s\" % (address,api_key)\n",
    "response = requests.get(url)\n",
    "print(type(response))\n"
   ]
  },
  {
   "cell_type": "code",
   "execution_count": null,
   "metadata": {},
   "outputs": [],
   "source": [
    "response.content"
   ]
  },
  {
   "cell_type": "markdown",
   "metadata": {},
   "source": [
    "<h4>requests can automatically decode and convert a json response into a python object"
   ]
  },
  {
   "cell_type": "code",
   "execution_count": null,
   "metadata": {},
   "outputs": [],
   "source": [
    "type(response.json())"
   ]
  },
  {
   "cell_type": "markdown",
   "metadata": {},
   "source": [
    "<h3>Exception checking!</h3>\n",
    "<li>Ideally, we should always check if the data grab has been successful\n",
    "<li>Especially if we are incorporating our results into a \"live\" analysis"
   ]
  },
  {
   "cell_type": "code",
   "execution_count": null,
   "metadata": {},
   "outputs": [],
   "source": [
    "response_data = ''\n",
    "address=\"Columbia University, New York, NY\"\n",
    "url=\"https://maps.googleapis.com/maps/api/geocode/json?address=%s&key=%s\" % (address,api_key)\n",
    "try:\n",
    "    response = requests.get(url)\n",
    "    if not response.status_code == 200:\n",
    "        print(\"HTTP error\",response.status_code)\n",
    "    else:\n",
    "        try:\n",
    "            response_data = response.json()\n",
    "        except:\n",
    "            print(\"Response not in valid JSON format\")\n",
    "except:\n",
    "    print(\"Something went wrong with requests.get\")\n",
    "print(type(response_data))\n",
    "print(response_data)"
   ]
  },
  {
   "cell_type": "markdown",
   "metadata": {},
   "source": [
    "<b>Try this</b>: Write a function that takes an address as an argument and returns a (latitude, longitude) tuple</h2>"
   ]
  },
  {
   "cell_type": "code",
   "execution_count": null,
   "metadata": {},
   "outputs": [],
   "source": [
    "def get_lat_lng(address_string,api_key):\n",
    "\n",
    "    return (lat,lng)\n",
    "    \n",
    "get_lat_lng(\"Columbia University\",api_key)"
   ]
  },
  {
   "cell_type": "code",
   "execution_count": null,
   "metadata": {},
   "outputs": [],
   "source": [
    "get_lat_lng(\"London Business School\",api_key)"
   ]
  },
  {
   "cell_type": "code",
   "execution_count": null,
   "metadata": {},
   "outputs": [],
   "source": [
    "get_lat_lng(\"Monash University\",api_key)"
   ]
  },
  {
   "cell_type": "markdown",
   "metadata": {},
   "source": [
    "<h1>XML</h1>\n",
    "<li>eXtensible Markup Language\n",
    "<li>data is stored in a tree\n",
    "<li>data items are \"tagged\" with named values\n",
    "<li>html is (loosely) similar to XML (both are based on SGML)\n",
    "<li>The python library - lxml - deals with converting an xml string to python objects and vice versa</li>"
   ]
  },
  {
   "cell_type": "code",
   "execution_count": null,
   "metadata": {},
   "outputs": [],
   "source": [
    "data_string = \"\"\"\n",
    "<Bookstore>\n",
    "   <Book ISBN=\"ISBN-13:978-1599620787\" Price=\"15.23\" Weight=\"1.5\">\n",
    "      <Title>New York Deco</Title>\n",
    "      <Authors>\n",
    "         <Author Residence=\"New York City\">\n",
    "            <First_Name>Richard</First_Name>\n",
    "            <Last_Name>Berenholtz</Last_Name>\n",
    "         </Author>\n",
    "      </Authors>\n",
    "   </Book>\n",
    "   <Book ISBN=\"ISBN-13:978-1579128562\" Price=\"15.80\">\n",
    "      <Remark>\n",
    "      Five Hundred Buildings of New York and over one million other books are available for Amazon Kindle.\n",
    "      </Remark>\n",
    "      <Title>Five Hundred Buildings of New York</Title>\n",
    "      <Authors>\n",
    "         <Author Residence=\"Beijing\">\n",
    "            <First_Name>Bill</First_Name>\n",
    "            <Last_Name>Harris</Last_Name>\n",
    "         </Author>\n",
    "         <Author Residence=\"New York City\">\n",
    "            <First_Name>Jorg</First_Name>\n",
    "            <Last_Name>Brockmann</Last_Name>\n",
    "         </Author>\n",
    "      </Authors>\n",
    "   </Book>\n",
    "</Bookstore>\n",
    "\"\"\""
   ]
  },
  {
   "cell_type": "code",
   "execution_count": null,
   "metadata": {},
   "outputs": [],
   "source": [
    "from lxml import etree\n",
    "root = etree.XML(data_string)\n",
    "print(root.tag,type(root.tag))"
   ]
  },
  {
   "cell_type": "markdown",
   "metadata": {},
   "source": [
    "<h4>XML trees are stored as utf-8 byte strings</h4>"
   ]
  },
  {
   "cell_type": "code",
   "execution_count": null,
   "metadata": {},
   "outputs": [],
   "source": [
    "print(etree.tostring(root, pretty_print=True))"
   ]
  },
  {
   "cell_type": "code",
   "execution_count": null,
   "metadata": {
    "scrolled": true
   },
   "outputs": [],
   "source": [
    "print(etree.tostring(root, pretty_print=True).decode(\"utf-8\"))"
   ]
  },
  {
   "cell_type": "markdown",
   "metadata": {},
   "source": [
    "<h3>Iterating over an XML tree</h3>\n",
    "<li>Use an iterator. \n",
    "<li>The iterator will generate every tree element for a given subtree"
   ]
  },
  {
   "cell_type": "code",
   "execution_count": null,
   "metadata": {},
   "outputs": [],
   "source": [
    "for element in root.iter():\n",
    "    print(element)"
   ]
  },
  {
   "cell_type": "markdown",
   "metadata": {},
   "source": [
    "<h4>Or just use the child in subtree construction"
   ]
  },
  {
   "cell_type": "code",
   "execution_count": null,
   "metadata": {},
   "outputs": [],
   "source": [
    "for child in root:\n",
    "    for thing in child:\n",
    "        print(thing)"
   ]
  },
  {
   "cell_type": "markdown",
   "metadata": {},
   "source": [
    "<h4>Accessing the tag</h4>\n"
   ]
  },
  {
   "cell_type": "code",
   "execution_count": null,
   "metadata": {},
   "outputs": [],
   "source": [
    "for child in root:\n",
    "    print(child.tag)"
   ]
  },
  {
   "cell_type": "markdown",
   "metadata": {},
   "source": [
    "<h4>Using the iterator to get specific tags<h4>\n",
    "<li>In the below example, only the author tags are accessed\n",
    "<li>For each author tag, the .find function accesses the First_Name and Last_Name tags\n",
    "<li>The .find function only looks at the children, not other descendants, so be careful!\n",
    "<li>The .text attribute prints the text in a leaf node"
   ]
  },
  {
   "cell_type": "code",
   "execution_count": null,
   "metadata": {},
   "outputs": [],
   "source": [
    "for element in root.iter(\"Author\"):\n",
    "    #print(element)\n",
    "    print(element.find('First_Name').text,element.find('Last_Name').text)"
   ]
  },
  {
   "cell_type": "code",
   "execution_count": null,
   "metadata": {},
   "outputs": [],
   "source": [
    "for element in root.findall('Book/Authors/Author/First_Name'):\n",
    "    print(element.text)"
   ]
  },
  {
   "cell_type": "markdown",
   "metadata": {},
   "source": [
    "<h4>Problem: Find the last names of all authors in the tree “root” using xpath</h4>"
   ]
  },
  {
   "cell_type": "code",
   "execution_count": null,
   "metadata": {},
   "outputs": [],
   "source": [
    "for element in root.findall('Book/Authors/Author/Last_Name'):\n",
    "    print(element.text)"
   ]
  },
  {
   "cell_type": "markdown",
   "metadata": {},
   "source": [
    "<h4>Using values of attributes as filters</h4>\n",
    "<li>Example: Find the first name of the author of a book that weighs 1.5 oz"
   ]
  },
  {
   "cell_type": "code",
   "execution_count": null,
   "metadata": {},
   "outputs": [],
   "source": [
    "root.find('Book[@Weight=\"1.5\"]/Authors/Author/First_Name').text"
   ]
  },
  {
   "cell_type": "markdown",
   "metadata": {},
   "source": [
    "<b>Try This</b>: Print first and last names of all authors who live in New York City"
   ]
  },
  {
   "cell_type": "code",
   "execution_count": null,
   "metadata": {},
   "outputs": [],
   "source": []
  },
  {
   "cell_type": "code",
   "execution_count": null,
   "metadata": {},
   "outputs": [],
   "source": []
  }
 ],
 "metadata": {
  "anaconda-cloud": {},
  "kernelspec": {
   "display_name": "Python 3",
   "language": "python",
   "name": "python3"
  },
  "language_info": {
   "codemirror_mode": {
    "name": "ipython",
    "version": 3
   },
   "file_extension": ".py",
   "mimetype": "text/x-python",
   "name": "python",
   "nbconvert_exporter": "python",
   "pygments_lexer": "ipython3",
   "version": "3.6.4"
  }
 },
 "nbformat": 4,
 "nbformat_minor": 2
}
