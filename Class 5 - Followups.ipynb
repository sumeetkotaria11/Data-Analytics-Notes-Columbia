{
 "cells": [
  {
   "cell_type": "markdown",
   "metadata": {},
   "source": [
    "<h3>Numpy Random</h3>"
   ]
  },
  {
   "cell_type": "code",
   "execution_count": null,
   "metadata": {},
   "outputs": [],
   "source": [
    "import numpy as np\n",
    "import pandas as pd\n",
    "import time\n",
    "%matplotlib inline"
   ]
  },
  {
   "cell_type": "code",
   "execution_count": null,
   "metadata": {},
   "outputs": [],
   "source": [
    "try:\n",
    "    while True:\n",
    "        # random(size=None) -> [0, 1) meaning including 0 but excluding 1\n",
    "        print(np.random.random())\n",
    "        \n",
    "        # uniform(minimum=0.0, maximum=1.0, size=None) -> [minimum,maximum)\n",
    "        # print(np.random.uniform(-1, 1))\n",
    "        \n",
    "        # normal(mean=0.0, std=1.0, size=None) - normal distribution \n",
    "        # print(np.random.normal())\n",
    "        \n",
    "        # Convenience function: Size parameter is numbers Vs a list\n",
    "        # rand(d0, d1,...) -> [0, 1) \n",
    "        # print(np.random.rand()) \n",
    "        \n",
    "        time.sleep(0.1)\n",
    "except KeyboardInterrupt:\n",
    "    print('Phew...')\n",
    "        "
   ]
  },
  {
   "cell_type": "markdown",
   "metadata": {},
   "source": [
    "<br><h3>Asterik (*)</h3>"
   ]
  },
  {
   "cell_type": "code",
   "execution_count": null,
   "metadata": {},
   "outputs": [],
   "source": [
    "# Unpacks variables\n",
    "\n",
    "# Remember rand(d0, d1,...) \n",
    "shape = 10\n",
    "np.random.rand(shape)\n",
    "\n",
    "shape = [10, 10]\n",
    "np.random.rand(*shape)"
   ]
  },
  {
   "cell_type": "code",
   "execution_count": null,
   "metadata": {},
   "outputs": [],
   "source": [
    "# Unknown number of variables\n",
    "\n",
    "def variable_num_of_parameters(*params):\n",
    "    for p in params:\n",
    "        print(p)\n",
    "        \n",
    "variable_num_of_parameters('a', 'b', 'c')"
   ]
  },
  {
   "cell_type": "code",
   "execution_count": null,
   "metadata": {},
   "outputs": [],
   "source": [
    "# Positional Vs Keyword parameters\n",
    "\n",
    "def position_vs_key(*args, **kargs):\n",
    "    print(type(args))\n",
    "    print(args)\n",
    "    print(type(kargs))\n",
    "    print(kargs)\n",
    "\n",
    "position_vs_key_example(\"pos1\", \"pos2\", key1=\"val1\", key2=\"val2\")"
   ]
  },
  {
   "cell_type": "markdown",
   "metadata": {},
   "source": [
    "<br><h3>Zip() - Matches items from different lists</h3>"
   ]
  },
  {
   "cell_type": "code",
   "execution_count": null,
   "metadata": {},
   "outputs": [],
   "source": [
    "names = ['Jill', 'Jack', 'Jenny', 'John']\n",
    "available_seats = ['1A', '1B', '2C', '4S']\n",
    "\n",
    "matched_list = zip(names, available_seats)\n",
    "matched_list\n",
    "#list(matched_list)"
   ]
  },
  {
   "cell_type": "markdown",
   "metadata": {},
   "source": [
    "<br><br>\n",
    "<h3>Pandas -> Group By + cumcount</h3>"
   ]
  },
  {
   "cell_type": "code",
   "execution_count": null,
   "metadata": {},
   "outputs": [],
   "source": [
    "people = pd.DataFrame([99, 94, 100, 90, 93, 87, 85, 80], columns=['Midterm' ], index=['Joe', 'Moe', 'Jill', 'Qing', 'Ariana', 'Bob', 'Suzan', 'Bill'])\n",
    "people"
   ]
  },
  {
   "cell_type": "code",
   "execution_count": null,
   "metadata": {},
   "outputs": [],
   "source": [
    "def GroupColFunc(df, ind, col):\n",
    "    med = df[col].median()\n",
    "    if df[col].loc[ind] > med:\n",
    "        return 'strong'\n",
    "    else:\n",
    "        return 'not so strong'"
   ]
  },
  {
   "cell_type": "code",
   "execution_count": null,
   "metadata": {},
   "outputs": [],
   "source": [
    "grouped = people.groupby(lambda x: GroupColFunc(people, x, 'Midterm'))\n",
    "grouped\n",
    "#print(grouped.size())"
   ]
  },
  {
   "cell_type": "code",
   "execution_count": null,
   "metadata": {},
   "outputs": [],
   "source": [
    "grouped.mean()\n",
    "#grouped.std()\n",
    "#grouped.count()\n",
    "\n",
    "#grouped.mean().plot(kind='bar')"
   ]
  },
  {
   "cell_type": "code",
   "execution_count": null,
   "metadata": {},
   "outputs": [],
   "source": [
    "grouped.cumcount()\n",
    "#people['Competition Group'] = grouped.cumcount()\n",
    "#people"
   ]
  },
  {
   "cell_type": "code",
   "execution_count": null,
   "metadata": {},
   "outputs": [],
   "source": [
    "comp_grouped = people.groupby([\"Competition Group\"])\n",
    "#comp_grouped.size()\n",
    "#comp_grouped.mean()\n",
    "\n",
    "#comp_grouped.mean().plot(kind='bar')"
   ]
  },
  {
   "cell_type": "markdown",
   "metadata": {},
   "source": [
    "<br><br>\n",
    "<h3>Pandas -> Group By + cumsum</h3>\n",
    "<br>\n",
    "<h4>Example 1</h4>"
   ]
  },
  {
   "cell_type": "code",
   "execution_count": null,
   "metadata": {},
   "outputs": [],
   "source": [
    "my_portfolio = pd.read_csv(\"./Class 5 - Cumsum1.csv\",index_col=\"Date\")\n",
    "my_portfolio"
   ]
  },
  {
   "cell_type": "code",
   "execution_count": null,
   "metadata": {},
   "outputs": [],
   "source": [
    "my_portfolio['Gain'] = (my_portfolio['Close'] - my_portfolio['Open']) * my_portfolio['Volume']\n",
    "my_portfolio"
   ]
  },
  {
   "cell_type": "code",
   "execution_count": null,
   "metadata": {},
   "outputs": [],
   "source": [
    "my_portfolio = my_portfolio[['Gain']].copy()\n",
    "my_portfolio"
   ]
  },
  {
   "cell_type": "code",
   "execution_count": null,
   "metadata": {},
   "outputs": [],
   "source": [
    "my_portfolio.cumsum()\n",
    "#%matplotlib inline\n",
    "#my_portfolio.cumsum().plot(kind='line')"
   ]
  },
  {
   "cell_type": "markdown",
   "metadata": {},
   "source": [
    "<br>\n",
    "<h4>Example 2</h4>"
   ]
  },
  {
   "cell_type": "code",
   "execution_count": null,
   "metadata": {},
   "outputs": [],
   "source": [
    "my_portfolio = pd.read_csv(\"./Class 5 - Cumsum2.csv\",index_col=\"Date\")\n",
    "my_portfolio"
   ]
  },
  {
   "cell_type": "code",
   "execution_count": null,
   "metadata": {},
   "outputs": [],
   "source": [
    "my_portfolio.index = pd.to_datetime(my_portfolio.index)"
   ]
  },
  {
   "cell_type": "code",
   "execution_count": null,
   "metadata": {},
   "outputs": [],
   "source": [
    "my_portfolio['Gain'] = (my_portfolio['Sell'] - my_portfolio['Buy']) * my_portfolio['Quantity']\n",
    "my_portfolio"
   ]
  },
  {
   "cell_type": "code",
   "execution_count": null,
   "metadata": {},
   "outputs": [],
   "source": [
    "my_portfolio = my_portfolio[['Ticker','Gain']].copy()\n",
    "my_portfolio"
   ]
  },
  {
   "cell_type": "code",
   "execution_count": null,
   "metadata": {},
   "outputs": [],
   "source": [
    "my_portfolio['Cumsum'] = my_portfolio.groupby(['Ticker'])['Gain'].cumsum()\n",
    "my_portfolio"
   ]
  },
  {
   "cell_type": "code",
   "execution_count": null,
   "metadata": {},
   "outputs": [],
   "source": [
    "my_portfolio.groupby(['Ticker']).plot(kind='line')"
   ]
  },
  {
   "cell_type": "code",
   "execution_count": null,
   "metadata": {},
   "outputs": [],
   "source": []
  }
 ],
 "metadata": {
  "kernelspec": {
   "display_name": "Python 3",
   "language": "python",
   "name": "python3"
  },
  "language_info": {
   "codemirror_mode": {
    "name": "ipython",
    "version": 3
   },
   "file_extension": ".py",
   "mimetype": "text/x-python",
   "name": "python",
   "nbconvert_exporter": "python",
   "pygments_lexer": "ipython3",
   "version": "3.6.4"
  }
 },
 "nbformat": 4,
 "nbformat_minor": 2
}
