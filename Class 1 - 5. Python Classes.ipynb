{
 "cells": [
  {
   "cell_type": "markdown",
   "metadata": {},
   "source": [
    "<h1>Python Objects</h1>"
   ]
  },
  {
   "cell_type": "markdown",
   "metadata": {},
   "source": [
    "\n",
    "<li>Objects are data structures. They encapsulate (group together) data and behavior \n",
    "<li>Python objects are defined using classes\n",
    "<li>Since the programmer can specify the content as well as the behavior of objects,\n",
    "<li>they are really programmer defined data types "
   ]
  },
  {
   "cell_type": "code",
   "execution_count": null,
   "metadata": {},
   "outputs": [],
   "source": [
    "class foo(object):\n",
    "    def __init__(self,value):\n",
    "        self.value = value\n",
    "    \n",
    "    def __str__(self):\n",
    "        return str(self.value)\n",
    "    \n",
    "    def __repr__(self):\n",
    "        return \"Object of class: foo\" + str(self.value)\n",
    "    \n",
    "    def __add__(self,other):\n",
    "        return foo(self.value + other.value)\n",
    "    \n",
    "    def __lt__(self,other):\n",
    "        return self.value < other.value\n",
    "    \n",
    "    def is_even(self):\n",
    "        return self.value%2 == 0"
   ]
  },
  {
   "cell_type": "code",
   "execution_count": null,
   "metadata": {},
   "outputs": [],
   "source": [
    "x = foo(10)\n",
    "y = foo(20)\n",
    "print(x)\n",
    "print(x+y)\n",
    "print(type(x+y))\n"
   ]
  },
  {
   "cell_type": "code",
   "execution_count": null,
   "metadata": {},
   "outputs": [],
   "source": [
    "x+y"
   ]
  },
  {
   "cell_type": "code",
   "execution_count": null,
   "metadata": {},
   "outputs": [],
   "source": [
    "x<y"
   ]
  },
  {
   "cell_type": "code",
   "execution_count": null,
   "metadata": {},
   "outputs": [],
   "source": [
    "x.is_even()"
   ]
  },
  {
   "cell_type": "markdown",
   "metadata": {},
   "source": [
    "<h2>Inheritance</h2>\n",
    "Objects inherit behavior"
   ]
  },
  {
   "cell_type": "markdown",
   "metadata": {},
   "source": [
    "Let's create a word object with the following properties:\n",
    "<ol>\n",
    "<li>The less than operator returns True if a word is shorter than the comparison word\n",
    "<li>In all other respects, a word behaves exactly like an str"
   ]
  },
  {
   "cell_type": "code",
   "execution_count": null,
   "metadata": {},
   "outputs": [],
   "source": [
    "class word(str):  #word now is a specialized type of str\n",
    "    \"\"\"\n",
    "    def __init__(self,v): #init initializes an object of type word\n",
    "        self.value=v\n",
    "    \"\"\"\n",
    "    #We don't need the init method because str already knows how to initialize itself\n",
    "    \n",
    "    def __eq__(self,other): #define the == operator\n",
    "        if len(self) == len(other):\n",
    "            return True\n",
    "        else:\n",
    "            return False\n",
    "\n",
    "    def __lt__(self,other): #define the > operator\n",
    "        if len(self) < len(other):\n",
    "            return True\n",
    "        else:\n",
    "            return False \n",
    "        \n",
    "    def __gt__(self,other):\n",
    "        if len(self) > len(other):\n",
    "            return True\n",
    "        else:\n",
    "            return False"
   ]
  },
  {
   "cell_type": "code",
   "execution_count": null,
   "metadata": {},
   "outputs": [],
   "source": [
    "x=word('hello')\n",
    "y=word('fellow')\n",
    "x+y #Now this will work because word knows how to be a string!"
   ]
  },
  {
   "cell_type": "code",
   "execution_count": null,
   "metadata": {},
   "outputs": [],
   "source": [
    "x<y"
   ]
  },
  {
   "cell_type": "code",
   "execution_count": null,
   "metadata": {},
   "outputs": [],
   "source": [
    "x=\"hello\"\n",
    "y=\"fellow\"\n",
    "x<y"
   ]
  },
  {
   "cell_type": "code",
   "execution_count": null,
   "metadata": {},
   "outputs": [],
   "source": []
  }
 ],
 "metadata": {
  "kernelspec": {
   "display_name": "Python 3",
   "language": "python",
   "name": "python3"
  },
  "language_info": {
   "codemirror_mode": {
    "name": "ipython",
    "version": 3
   },
   "file_extension": ".py",
   "mimetype": "text/x-python",
   "name": "python",
   "nbconvert_exporter": "python",
   "pygments_lexer": "ipython3",
   "version": "3.6.4"
  }
 },
 "nbformat": 4,
 "nbformat_minor": 1
}
